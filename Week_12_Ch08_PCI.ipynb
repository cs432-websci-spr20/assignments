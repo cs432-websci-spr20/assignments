{
  "nbformat": 4,
  "nbformat_minor": 0,
  "metadata": {
    "colab": {
      "name": "Week-12-Ch08-PCI.ipynb",
      "provenance": [],
      "collapsed_sections": [],
      "toc_visible": true,
      "authorship_tag": "ABX9TyPjUPU+qHd8vWKtIsMsIcQ4",
      "include_colab_link": true
    },
    "kernelspec": {
      "name": "python3",
      "display_name": "Python 3"
    }
  },
  "cells": [
    {
      "cell_type": "markdown",
      "metadata": {
        "id": "view-in-github",
        "colab_type": "text"
      },
      "source": [
        "<a href=\"https://colab.research.google.com/github/cs432-websci-spr20/assignments/blob/master/Week_12_Ch08_PCI.ipynb\" target=\"_parent\"><img src=\"https://colab.research.google.com/assets/colab-badge.svg\" alt=\"Open In Colab\"/></a>"
      ]
    },
    {
      "cell_type": "markdown",
      "metadata": {
        "id": "1bWBFVx7JQJ2",
        "colab_type": "text"
      },
      "source": [
        "# K-Nearest Neighbors\n",
        "\n",
        "Ch 8 from *Programming Collective Intelligence*, based on code from\n",
        "* https://github.com/arthur-e/Programming-Collective-Intelligence/tree/master/chapter8\n",
        "* https://go.oreilly.com/old-dominion-university/library/view/programming-collective-intelligence/9780596529321/\n",
        "\n",
        "**Goal:** Predict the price of a bottle of wine."
      ]
    },
    {
      "cell_type": "markdown",
      "metadata": {
        "id": "mA9MQpqzJdqg",
        "colab_type": "text"
      },
      "source": [
        "# Build the Dataset\n",
        "\n",
        "Generate a dataset of wine ratings, age, and prices (pgs. 168-169)"
      ]
    },
    {
      "cell_type": "code",
      "metadata": {
        "id": "zxng9MDPJcyR",
        "colab_type": "code",
        "colab": {}
      },
      "source": [
        "from random import random,randint\n",
        "import math"
      ],
      "execution_count": 0,
      "outputs": []
    },
    {
      "cell_type": "code",
      "metadata": {
        "id": "Zx_7T_tjJqXe",
        "colab_type": "code",
        "colab": {}
      },
      "source": [
        "def wineprice(rating,age):\n",
        "  peak_age=rating-50\n",
        "  \n",
        "  # Calculate price based on rating\n",
        "  price=rating/2\n",
        "  if age>peak_age:\n",
        "    # Past its peak, goes bad in 10 years\n",
        "    price=price*(5-(age-peak_age)/2)\n",
        "  else:\n",
        "    # Increases to 5x original value as it\n",
        "    # approaches its peak\n",
        "    price=price*(5*((age+1)/peak_age))\n",
        "  if price<0: price=0\n",
        "  return price"
      ],
      "execution_count": 0,
      "outputs": []
    },
    {
      "cell_type": "code",
      "metadata": {
        "id": "SX8uhlOcJr9n",
        "colab_type": "code",
        "colab": {}
      },
      "source": [
        "def wineset1():\n",
        "  rows=[]\n",
        "  for i in range(300):\n",
        "    # Create a random age and rating\n",
        "    rating=random()*50+50\n",
        "    age=random()*50\n",
        "\n",
        "    # Get reference price\n",
        "    price=wineprice(rating,age)\n",
        "    \n",
        "    # Add some noise\n",
        "    #price*=(random()*0.2+0.9)\n",
        "    price*=(random()*0.4+0.8)  # changed to match p.168 code\n",
        "\n",
        "    # Add to the dataset\n",
        "    rows.append({'input':(rating,age),\n",
        "                 'result':price})\n",
        "  return rows"
      ],
      "execution_count": 0,
      "outputs": []
    },
    {
      "cell_type": "markdown",
      "metadata": {
        "id": "EBm9unesgJoz",
        "colab_type": "text"
      },
      "source": [
        "# Distance Functions"
      ]
    },
    {
      "cell_type": "code",
      "metadata": {
        "id": "tC9J8Ka2gMZH",
        "colab_type": "code",
        "colab": {}
      },
      "source": [
        "def euclidean(v1,v2):\n",
        "  d=0.0\n",
        "  for i in range(len(v1)):\n",
        "    d+=(v1[i]-v2[i])**2\n",
        "  return math.sqrt(d)"
      ],
      "execution_count": 0,
      "outputs": []
    },
    {
      "cell_type": "code",
      "metadata": {
        "id": "gmuUy7uSgOMW",
        "colab_type": "code",
        "colab": {}
      },
      "source": [
        "def getdistances(data,vec1):\n",
        "  distancelist=[]\n",
        "  \n",
        "  # Loop over every item in the dataset\n",
        "  for i in range(len(data)):\n",
        "    vec2=data[i]['input']\n",
        "    \n",
        "    # Add the distance and the index\n",
        "    distancelist.append((euclidean(vec1,vec2),i))\n",
        "  \n",
        "  # Sort by distance\n",
        "  distancelist.sort()\n",
        "  return distancelist"
      ],
      "execution_count": 0,
      "outputs": []
    },
    {
      "cell_type": "markdown",
      "metadata": {
        "id": "B_Lt4Pe6QDFk",
        "colab_type": "text"
      },
      "source": [
        "# Weight Functions"
      ]
    },
    {
      "cell_type": "code",
      "metadata": {
        "id": "XLyRnLdXQCv_",
        "colab_type": "code",
        "colab": {}
      },
      "source": [
        "def inverseweight(dist,num=1.0,const=0.1):\n",
        "  return num/(dist+const)"
      ],
      "execution_count": 0,
      "outputs": []
    },
    {
      "cell_type": "code",
      "metadata": {
        "id": "CeddIWdnQFx4",
        "colab_type": "code",
        "colab": {}
      },
      "source": [
        "def subtractweight(dist,const=1.0):\n",
        "  if dist>const: \n",
        "    return 0\n",
        "  else: \n",
        "    return const-dist"
      ],
      "execution_count": 0,
      "outputs": []
    },
    {
      "cell_type": "code",
      "metadata": {
        "id": "xL9sGZWLQHPH",
        "colab_type": "code",
        "colab": {}
      },
      "source": [
        "def gaussian(dist,sigma=5.0):\n",
        "  return math.e**(-dist**2/(2*sigma**2))"
      ],
      "execution_count": 0,
      "outputs": []
    },
    {
      "cell_type": "markdown",
      "metadata": {
        "id": "-PILLVcWgTdD",
        "colab_type": "text"
      },
      "source": [
        "# kNN Estimate"
      ]
    },
    {
      "cell_type": "code",
      "metadata": {
        "id": "5LIsgv59gZOd",
        "colab_type": "code",
        "colab": {}
      },
      "source": [
        "def knnestimate(data,vec1,k=5):\n",
        "  # Get sorted distances\n",
        "  dlist=getdistances(data,vec1)\n",
        "  avg=0.0\n",
        "  \n",
        "  # Take the average of the top k results\n",
        "  for i in range(k):\n",
        "    idx=dlist[i][1]\n",
        "    avg+=data[idx]['result']\n",
        "  avg=avg/k\n",
        "  return avg"
      ],
      "execution_count": 0,
      "outputs": []
    },
    {
      "cell_type": "code",
      "metadata": {
        "id": "I1IUQKc9Y5Yh",
        "colab_type": "code",
        "colab": {}
      },
      "source": [
        "def weightedknn(data,vec1,k=5,weightf=gaussian):\n",
        "  # Get distances\n",
        "  dlist=getdistances(data,vec1)\n",
        "  avg=0.0\n",
        "  totalweight=0.0\n",
        "  \n",
        "  # Get weighted average\n",
        "  for i in range(k):\n",
        "    dist=dlist[i][0]\n",
        "    idx=dlist[i][1]\n",
        "    weight=weightf(dist)\n",
        "    avg+=weight*data[idx]['result']\n",
        "    totalweight+=weight\n",
        "  if totalweight==0: return 0\n",
        "  avg=avg/totalweight\n",
        "  return avg"
      ],
      "execution_count": 0,
      "outputs": []
    },
    {
      "cell_type": "markdown",
      "metadata": {
        "id": "L4_tjQpsbg8q",
        "colab_type": "text"
      },
      "source": [
        "## Examples - Weighted vs. Non-Weighted "
      ]
    },
    {
      "cell_type": "code",
      "metadata": {
        "id": "J-e4hOGMbn_Y",
        "colab_type": "code",
        "colab": {}
      },
      "source": [
        "data = wineset1()"
      ],
      "execution_count": 0,
      "outputs": []
    },
    {
      "cell_type": "code",
      "metadata": {
        "id": "AzhtnoYibyCW",
        "colab_type": "code",
        "colab": {}
      },
      "source": [
        "wineprice(99.0, 5.0)"
      ],
      "execution_count": 0,
      "outputs": []
    },
    {
      "cell_type": "code",
      "metadata": {
        "id": "a29ItkWMb4lW",
        "colab_type": "code",
        "colab": {}
      },
      "source": [
        "knnestimate(data,(99.0,5.0))"
      ],
      "execution_count": 0,
      "outputs": []
    },
    {
      "cell_type": "code",
      "metadata": {
        "id": "gbJiVUEFcBV5",
        "colab_type": "code",
        "colab": {}
      },
      "source": [
        "weightedknn(data,(99.0,5.0))"
      ],
      "execution_count": 0,
      "outputs": []
    },
    {
      "cell_type": "code",
      "metadata": {
        "id": "EUgoiQP2cLXK",
        "colab_type": "code",
        "colab": {}
      },
      "source": [
        "weightedknn(data,(99.0,5.0), k=10)"
      ],
      "execution_count": 0,
      "outputs": []
    },
    {
      "cell_type": "code",
      "metadata": {
        "id": "48W5t3AkcOs8",
        "colab_type": "code",
        "colab": {}
      },
      "source": [
        "weightedknn(data,(99.0,5.0), k=20)"
      ],
      "execution_count": 0,
      "outputs": []
    },
    {
      "cell_type": "markdown",
      "metadata": {
        "id": "EabZzvhxGeLJ",
        "colab_type": "text"
      },
      "source": [
        "# Cross-Validation"
      ]
    },
    {
      "cell_type": "code",
      "metadata": {
        "id": "iI4d19ihGfiF",
        "colab_type": "code",
        "colab": {}
      },
      "source": [
        "def dividedata(data,test=0.05):\n",
        "  trainset=[]\n",
        "  testset=[]\n",
        "  for row in data:\n",
        "    if random()<test:\n",
        "      testset.append(row)\n",
        "    else:\n",
        "      trainset.append(row)\n",
        "  return trainset,testset"
      ],
      "execution_count": 0,
      "outputs": []
    },
    {
      "cell_type": "code",
      "metadata": {
        "id": "3rjCJz-qGh32",
        "colab_type": "code",
        "colab": {}
      },
      "source": [
        "def testalgorithm(algf,trainset,testset):\n",
        "  error=0.0\n",
        "  for row in testset:\n",
        "    guess=algf(trainset,row['input'])\n",
        "    error+=(row['result']-guess)**2\n",
        "    #print row['result'],guess\n",
        "  #print error/len(testset)\n",
        "  return error/len(testset)"
      ],
      "execution_count": 0,
      "outputs": []
    },
    {
      "cell_type": "code",
      "metadata": {
        "id": "GUCIYg_uGjy8",
        "colab_type": "code",
        "colab": {}
      },
      "source": [
        "def crossvalidate(algf,data,trials=100,test=0.1):\n",
        "  error=0.0\n",
        "  for i in range(trials):\n",
        "    trainset,testset=dividedata(data,test)\n",
        "    error+=testalgorithm(algf,trainset,testset)\n",
        "  return error/trials"
      ],
      "execution_count": 0,
      "outputs": []
    },
    {
      "cell_type": "markdown",
      "metadata": {
        "id": "_UoHLWU6GsLc",
        "colab_type": "text"
      },
      "source": [
        "## Examples - Cross-Validation"
      ]
    },
    {
      "cell_type": "code",
      "metadata": {
        "id": "IAj9NeWAG8CK",
        "colab_type": "code",
        "colab": {}
      },
      "source": [
        "def knn3(d,v): return knnestimate(d,v,k=3)\n",
        "\n",
        "def knn1(d,v): return knnestimate(d,v,k=1) \n",
        "\n",
        "def wknn3(d,v): return weightedknn(d,v,k=3)\n",
        "\n",
        "def wknn1(d,v): return weightedknn(d,v,k=1)\n",
        "\n",
        "def wknn5inverse(d,v): return weightedknn(d,v,weightf=inverseweight)"
      ],
      "execution_count": 0,
      "outputs": []
    },
    {
      "cell_type": "code",
      "metadata": {
        "id": "XY5y3g60G9hh",
        "colab_type": "code",
        "colab": {}
      },
      "source": [
        "crossvalidate(knnestimate,data)"
      ],
      "execution_count": 0,
      "outputs": []
    },
    {
      "cell_type": "code",
      "metadata": {
        "id": "sxU6SQJTG_J5",
        "colab_type": "code",
        "colab": {}
      },
      "source": [
        "crossvalidate(knn3,data)"
      ],
      "execution_count": 0,
      "outputs": []
    },
    {
      "cell_type": "code",
      "metadata": {
        "id": "FojnA_HQHBs5",
        "colab_type": "code",
        "colab": {}
      },
      "source": [
        "crossvalidate(knn1,data) "
      ],
      "execution_count": 0,
      "outputs": []
    },
    {
      "cell_type": "code",
      "metadata": {
        "id": "89SnmjixHDsi",
        "colab_type": "code",
        "colab": {}
      },
      "source": [
        "crossvalidate(weightedknn,data)"
      ],
      "execution_count": 0,
      "outputs": []
    },
    {
      "cell_type": "code",
      "metadata": {
        "id": "KTNeIZVpHEAl",
        "colab_type": "code",
        "colab": {}
      },
      "source": [
        "crossvalidate(wknn3,data) "
      ],
      "execution_count": 0,
      "outputs": []
    },
    {
      "cell_type": "code",
      "metadata": {
        "id": "V7gC0rGkHFPm",
        "colab_type": "code",
        "colab": {}
      },
      "source": [
        "crossvalidate(wknn1,data)"
      ],
      "execution_count": 0,
      "outputs": []
    },
    {
      "cell_type": "code",
      "metadata": {
        "id": "moxQ2V_dHGhG",
        "colab_type": "code",
        "colab": {}
      },
      "source": [
        "crossvalidate(wknn5inverse,data) "
      ],
      "execution_count": 0,
      "outputs": []
    },
    {
      "cell_type": "markdown",
      "metadata": {
        "id": "WRyuIwlZHJsb",
        "colab_type": "text"
      },
      "source": [
        "# Rescaling"
      ]
    },
    {
      "cell_type": "code",
      "metadata": {
        "id": "0CD1Nb9RHMKw",
        "colab_type": "code",
        "colab": {}
      },
      "source": [
        "def wineset2():\n",
        "  rows=[]\n",
        "  for i in range(300):\n",
        "    rating=random()*50+50\n",
        "    age=random()*50\n",
        "    aisle=float(randint(1,20))\n",
        "    bottlesize=[375.0,750.0,1500.0][randint(0,2)]\n",
        "    price=wineprice(rating,age)\n",
        "    price*=(bottlesize/750)\n",
        "    price*=(random()*0.2+0.9)\n",
        "    rows.append({'input':(rating,age,aisle,bottlesize),\n",
        "                 'result':price})\n",
        "  return rows"
      ],
      "execution_count": 0,
      "outputs": []
    },
    {
      "cell_type": "code",
      "metadata": {
        "id": "udI007_7HObj",
        "colab_type": "code",
        "colab": {}
      },
      "source": [
        "def rescale(data,scale):\n",
        "  scaleddata=[]\n",
        "  for row in data:\n",
        "    scaled=[scale[i]*row['input'][i] for i in range(len(scale))]\n",
        "    scaleddata.append({'input':scaled,'result':row['result']})\n",
        "  return scaleddata"
      ],
      "execution_count": 0,
      "outputs": []
    },
    {
      "cell_type": "markdown",
      "metadata": {
        "id": "mySmfAHqHRcg",
        "colab_type": "text"
      },
      "source": [
        "## Examples - Rescaling"
      ]
    },
    {
      "cell_type": "code",
      "metadata": {
        "id": "PuV6S-EfHSvA",
        "colab_type": "code",
        "colab": {}
      },
      "source": [
        "data2 = wineset2() "
      ],
      "execution_count": 0,
      "outputs": []
    },
    {
      "cell_type": "code",
      "metadata": {
        "id": "M-bWX0OqHVJQ",
        "colab_type": "code",
        "colab": {}
      },
      "source": [
        "data2[0:4]"
      ],
      "execution_count": 0,
      "outputs": []
    },
    {
      "cell_type": "code",
      "metadata": {
        "id": "STiIBYUWHYef",
        "colab_type": "code",
        "colab": {}
      },
      "source": [
        "crossvalidate(knn3,data) "
      ],
      "execution_count": 0,
      "outputs": []
    },
    {
      "cell_type": "code",
      "metadata": {
        "id": "zOp-LxyLHaXE",
        "colab_type": "code",
        "colab": {}
      },
      "source": [
        "crossvalidate(knn3,data2) "
      ],
      "execution_count": 0,
      "outputs": []
    },
    {
      "cell_type": "code",
      "metadata": {
        "id": "bfQgTBnkHb-6",
        "colab_type": "code",
        "colab": {}
      },
      "source": [
        "crossvalidate(weightedknn,data)"
      ],
      "execution_count": 0,
      "outputs": []
    },
    {
      "cell_type": "code",
      "metadata": {
        "id": "pictpTPsHdWr",
        "colab_type": "code",
        "colab": {}
      },
      "source": [
        "crossvalidate(weightedknn,data2)"
      ],
      "execution_count": 0,
      "outputs": []
    },
    {
      "cell_type": "code",
      "metadata": {
        "id": "5NGJcASSHhsH",
        "colab_type": "code",
        "colab": {}
      },
      "source": [
        "sdata=rescale(data2,[10,10,0,0.5])"
      ],
      "execution_count": 0,
      "outputs": []
    },
    {
      "cell_type": "code",
      "metadata": {
        "id": "EEEWqF3pHkdo",
        "colab_type": "code",
        "colab": {}
      },
      "source": [
        "crossvalidate(knn3,sdata) "
      ],
      "execution_count": 0,
      "outputs": []
    },
    {
      "cell_type": "code",
      "metadata": {
        "id": "mpe62_dRHltl",
        "colab_type": "code",
        "colab": {}
      },
      "source": [
        "crossvalidate(weightedknn,sdata) "
      ],
      "execution_count": 0,
      "outputs": []
    },
    {
      "cell_type": "markdown",
      "metadata": {
        "id": "ZNLRV_r5HrNt",
        "colab_type": "text"
      },
      "source": [
        "# Optimization"
      ]
    },
    {
      "cell_type": "code",
      "metadata": {
        "id": "BruyX7-RHsZ-",
        "colab_type": "code",
        "colab": {}
      },
      "source": [
        "def createcostfunction(algf,data):\n",
        "  def costf(scale):\n",
        "    sdata=rescale(data,scale)\n",
        "    return crossvalidate(algf,sdata,trials=20)\n",
        "  return costf"
      ],
      "execution_count": 0,
      "outputs": []
    },
    {
      "cell_type": "code",
      "metadata": {
        "id": "rxvN228iHutG",
        "colab_type": "code",
        "colab": {}
      },
      "source": [
        "weightdomain=[(0,20)]*4"
      ],
      "execution_count": 0,
      "outputs": []
    },
    {
      "cell_type": "markdown",
      "metadata": {
        "id": "Xte4ToKFHy67",
        "colab_type": "text"
      },
      "source": [
        "## Optimization Code from Ch 5\n",
        "\n",
        "https://github.com/arthur-e/Programming-Collective-Intelligence/blob/master/chapter5\n",
        "\n",
        "Notes: \n",
        "* Because we've already imported `random` and `randint` (top cell), I've removed the `random.` in front of all of the calls to `random` and `randint` in these two functions.\n",
        "* In geneticoptimize(), I added parenthesis in the `print` statement and fixed a typo (`mutprob` -> `mutprod`)"
      ]
    },
    {
      "cell_type": "code",
      "metadata": {
        "id": "ZV8UODXMH8SF",
        "colab_type": "code",
        "colab": {}
      },
      "source": [
        "def annealingoptimize(domain,costf,T=10000.0,cool=0.95,step=1):\n",
        "  # Initialize the values randomly\n",
        "  vec=[float(randint(domain[i][0],domain[i][1])) \n",
        "       for i in range(len(domain))]\n",
        "  \n",
        "  while T>0.1:\n",
        "    # Choose one of the indices\n",
        "    i=randint(0,len(domain)-1)\n",
        "\n",
        "    # Choose a direction to change it\n",
        "    dir=randint(-step,step)\n",
        "\n",
        "    # Create a new list with one of the values changed\n",
        "    vecb=vec[:]\n",
        "    vecb[i]+=dir\n",
        "    if vecb[i]<domain[i][0]: vecb[i]=domain[i][0]\n",
        "    elif vecb[i]>domain[i][1]: vecb[i]=domain[i][1]\n",
        "\n",
        "    # Calculate the current cost and the new cost\n",
        "    ea=costf(vec)\n",
        "    eb=costf(vecb)\n",
        "    p=pow(math.e,(-eb-ea)/T)\n",
        "\n",
        "    # Is it better, or does it make the probability\n",
        "    # cutoff?\n",
        "    if (eb<ea or random()<p):\n",
        "      vec=vecb      \n",
        "\n",
        "    # Decrease the temperature\n",
        "    T=T*cool\n",
        "  return vec"
      ],
      "execution_count": 0,
      "outputs": []
    },
    {
      "cell_type": "code",
      "metadata": {
        "id": "tMWmhtlYIBUD",
        "colab_type": "code",
        "colab": {}
      },
      "source": [
        "def geneticoptimize(domain,costf,popsize=50,step=1,\n",
        "                    mutprod=0.2,elite=0.2,maxiter=100):\n",
        "  # Mutation Operation\n",
        "  def mutate(vec):\n",
        "    i=randint(0,len(domain)-1)\n",
        "    if random()<0.5 and vec[i]>domain[i][0]:\n",
        "      return vec[0:i]+[vec[i]-step]+vec[i+1:] \n",
        "    elif vec[i]<domain[i][1]:\n",
        "      return vec[0:i]+[vec[i]+step]+vec[i+1:]\n",
        "  \n",
        "  # Crossover Operation\n",
        "  def crossover(r1,r2):\n",
        "    i=randint(1,len(domain)-2)\n",
        "    return r1[0:i]+r2[i:]\n",
        "\n",
        "  # Build the initial population\n",
        "  pop=[]\n",
        "  for i in range(popsize):\n",
        "    vec=[randint(domain[i][0],domain[i][1]) \n",
        "         for i in range(len(domain))]\n",
        "    pop.append(vec)\n",
        "  \n",
        "  # How many winners from each generation?\n",
        "  topelite=int(elite*popsize)\n",
        "  \n",
        "  # Main loop \n",
        "  for i in range(maxiter):\n",
        "    scores=[(costf(v),v) for v in pop]\n",
        "    scores.sort()\n",
        "    ranked=[v for (s,v) in scores]\n",
        "    \n",
        "    # Start with the pure winners\n",
        "    pop=ranked[0:topelite]\n",
        "    \n",
        "    # Add mutated and bred forms of the winners\n",
        "    while len(pop)<popsize:\n",
        "      if random()<mutprod:\n",
        "\n",
        "        # Mutation\n",
        "        c=randint(0,topelite)\n",
        "        pop.append(mutate(ranked[c]))\n",
        "      else:\n",
        "      \n",
        "        # Crossover\n",
        "        c1=randint(0,topelite)\n",
        "        c2=randint(0,topelite)\n",
        "        pop.append(crossover(ranked[c1],ranked[c2]))\n",
        "    \n",
        "    # Print current best score\n",
        "    print (scores[0][0])\n",
        "    \n",
        "  return scores[0][1]"
      ],
      "execution_count": 0,
      "outputs": []
    },
    {
      "cell_type": "markdown",
      "metadata": {
        "id": "fHFhylZRIFnI",
        "colab_type": "text"
      },
      "source": [
        "## Examples - Optimization"
      ]
    },
    {
      "cell_type": "code",
      "metadata": {
        "id": "80e9H20hIMu7",
        "colab_type": "code",
        "colab": {}
      },
      "source": [
        "costf=createcostfunction(knnestimate,data2) "
      ],
      "execution_count": 0,
      "outputs": []
    },
    {
      "cell_type": "code",
      "metadata": {
        "id": "PvsS6ZbCIPur",
        "colab_type": "code",
        "colab": {}
      },
      "source": [
        "annealingoptimize(weightdomain,costf,step=2)"
      ],
      "execution_count": 0,
      "outputs": []
    },
    {
      "cell_type": "code",
      "metadata": {
        "id": "2oZVvcTTIRjk",
        "colab_type": "code",
        "colab": {}
      },
      "source": [
        "annealingoptimize(weightdomain,costf,step=2) "
      ],
      "execution_count": 0,
      "outputs": []
    },
    {
      "cell_type": "code",
      "metadata": {
        "id": "-cvmFAmIISy5",
        "colab_type": "code",
        "colab": {}
      },
      "source": [
        "annealingoptimize(weightdomain,costf,step=2) "
      ],
      "execution_count": 0,
      "outputs": []
    },
    {
      "cell_type": "code",
      "metadata": {
        "id": "_-NKzZGvIV2j",
        "colab_type": "code",
        "colab": {}
      },
      "source": [
        "geneticoptimize(weightdomain,costf,popsize=5)"
      ],
      "execution_count": 0,
      "outputs": []
    }
  ]
}