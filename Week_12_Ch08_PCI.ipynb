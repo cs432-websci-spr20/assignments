{
  "nbformat": 4,
  "nbformat_minor": 0,
  "metadata": {
    "colab": {
      "name": "Week-12-Ch08-PCI.ipynb",
      "provenance": [],
      "collapsed_sections": [],
      "authorship_tag": "ABX9TyOrZsMIqkI0hdixw1tnrAGM",
      "include_colab_link": true
    },
    "kernelspec": {
      "name": "python3",
      "display_name": "Python 3"
    }
  },
  "cells": [
    {
      "cell_type": "markdown",
      "metadata": {
        "id": "view-in-github",
        "colab_type": "text"
      },
      "source": [
        "<a href=\"https://colab.research.google.com/github/cs432-websci-spr20/assignments/blob/master/Week_12_Ch08_PCI.ipynb\" target=\"_parent\"><img src=\"https://colab.research.google.com/assets/colab-badge.svg\" alt=\"Open In Colab\"/></a>"
      ]
    },
    {
      "cell_type": "code",
      "metadata": {
        "id": "lI3csSYgJASx",
        "colab_type": "code",
        "colab": {}
      },
      "source": [
        ""
      ],
      "execution_count": 0,
      "outputs": []
    },
    {
      "cell_type": "markdown",
      "metadata": {
        "id": "1bWBFVx7JQJ2",
        "colab_type": "text"
      },
      "source": [
        "# K-Nearest Neighbors\n",
        "\n",
        "Ch 8 from *Programming Collective Intelligence*, based on code from\n",
        "* https://github.com/arthur-e/Programming-Collective-Intelligence/tree/master/chapter8\n",
        "* https://go.oreilly.com/old-dominion-university/library/view/programming-collective-intelligence/9780596529321/\n",
        "\n",
        "**Goal:** Predict the price of a bottle of wine."
      ]
    },
    {
      "cell_type": "markdown",
      "metadata": {
        "id": "mA9MQpqzJdqg",
        "colab_type": "text"
      },
      "source": [
        "# Build the Dataset\n",
        "\n",
        "Generate a dataset of wine ratings, age, and prices (pgs. 168-169)"
      ]
    },
    {
      "cell_type": "code",
      "metadata": {
        "id": "zxng9MDPJcyR",
        "colab_type": "code",
        "colab": {}
      },
      "source": [
        "from random import random,randint\n",
        "import math"
      ],
      "execution_count": 0,
      "outputs": []
    },
    {
      "cell_type": "code",
      "metadata": {
        "id": "Zx_7T_tjJqXe",
        "colab_type": "code",
        "colab": {}
      },
      "source": [
        "def wineprice(rating,age):\n",
        "  peak_age=rating-50\n",
        "  \n",
        "  # Calculate price based on rating\n",
        "  price=rating/2\n",
        "  if age>peak_age:\n",
        "    # Past its peak, goes bad in 10 years\n",
        "    price=price*(5-(age-peak_age)/2)\n",
        "  else:\n",
        "    # Increases to 5x original value as it\n",
        "    # approaches its peak\n",
        "    price=price*(5*((age+1)/peak_age))\n",
        "  if price<0: price=0\n",
        "  return price"
      ],
      "execution_count": 0,
      "outputs": []
    },
    {
      "cell_type": "code",
      "metadata": {
        "id": "SX8uhlOcJr9n",
        "colab_type": "code",
        "colab": {}
      },
      "source": [
        "def wineset1():\n",
        "  rows=[]\n",
        "  for i in range(300):\n",
        "    # Create a random age and rating\n",
        "    rating=random()*50+50\n",
        "    age=random()*50\n",
        "\n",
        "    # Get reference price\n",
        "    price=wineprice(rating,age)\n",
        "    \n",
        "    # Add some noise\n",
        "    #price*=(random()*0.2+0.9)\n",
        "    price*=(random()*0.4+0.8)  # changed to match p.168 code\n",
        "\n",
        "    # Add to the dataset\n",
        "    rows.append({'input':(rating,age),\n",
        "                 'result':price})\n",
        "  return rows"
      ],
      "execution_count": 0,
      "outputs": []
    }
  ]
}