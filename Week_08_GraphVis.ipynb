{
  "nbformat": 4,
  "nbformat_minor": 0,
  "metadata": {
    "colab": {
      "name": "Week-08-GraphVis.ipynb",
      "provenance": [],
      "collapsed_sections": [],
      "toc_visible": true,
      "authorship_tag": "ABX9TyPPNpjOPgbxagkfr/COkBs/",
      "include_colab_link": true
    },
    "kernelspec": {
      "name": "python3",
      "display_name": "Python 3"
    }
  },
  "cells": [
    {
      "cell_type": "markdown",
      "metadata": {
        "id": "view-in-github",
        "colab_type": "text"
      },
      "source": [
        "<a href=\"https://colab.research.google.com/github/cs432-websci-spr20/assignments/blob/master/Week_08_GraphVis.ipynb\" target=\"_parent\"><img src=\"https://colab.research.google.com/assets/colab-badge.svg\" alt=\"Open In Colab\"/></a>"
      ]
    },
    {
      "cell_type": "markdown",
      "metadata": {
        "id": "Ebdk64hsw_b1",
        "colab_type": "text"
      },
      "source": [
        "# CS 432/532 - Week 08 - GraphVis\n",
        "\n",
        "This notebook goes along with the [Week-08 Visualization slides](https://docs.google.com/presentation/d/1ig5V-hzBEFxcS7oawAdTjMN3q4-QyIVePVR3G2IDQzE/edit) from [CS 432/532 Spring 2020](https://www.cs.odu.edu/~mweigle/CS432-S20/Home)"
      ]
    },
    {
      "cell_type": "markdown",
      "metadata": {
        "id": "eiHHrhEhxS6I",
        "colab_type": "text"
      },
      "source": [
        "## NetworkX\n",
        "\n",
        "http://networkx.github.com/ \n",
        "\n",
        "Has Karate Club network as a built-in function (`karate_club_graph()`)\n",
        "\n",
        "The example below is from https://networkx.github.io/documentation/stable/auto_examples/graph/plot_karate_club.html"
      ]
    },
    {
      "cell_type": "code",
      "metadata": {
        "id": "hfOMP1svwuWp",
        "colab_type": "code",
        "colab": {}
      },
      "source": [
        "import matplotlib.pyplot as plt\n",
        "import networkx as nx\n",
        "\n",
        "G = nx.karate_club_graph()\n",
        "print(\"Node Degree\")\n",
        "for v in G:\n",
        "    print('%s %s' % (v, G.degree(v)))\n",
        "nx.draw_circular(G, with_labels=True)\n",
        "plt.show()"
      ],
      "execution_count": 0,
      "outputs": []
    },
    {
      "cell_type": "markdown",
      "metadata": {
        "id": "zWj4LQlK6ddc",
        "colab_type": "text"
      },
      "source": [
        "Delete an edge (between nodes 21 and 1) and redraw"
      ]
    },
    {
      "cell_type": "code",
      "metadata": {
        "id": "VCYdSqHR6cgv",
        "colab_type": "code",
        "colab": {}
      },
      "source": [
        "G.remove_edge(21, 1)\n",
        "nx.draw_circular(G, with_labels=True)\n",
        "plt.show()"
      ],
      "execution_count": 0,
      "outputs": []
    },
    {
      "cell_type": "markdown",
      "metadata": {
        "id": "gMidANWY7FQ2",
        "colab_type": "text"
      },
      "source": [
        "Color nodes 0 and 33 (most connected, so those are John and Mr. Hi)\n",
        "\n",
        "*Default color (#1f78b4) for nodes found at https://networkx.github.io/documentation/stable/reference/generated/networkx.drawing.nx_pylab.draw_networkx.html*"
      ]
    },
    {
      "cell_type": "code",
      "metadata": {
        "id": "3iU0F4eO7E02",
        "colab_type": "code",
        "colab": {}
      },
      "source": [
        "node_color = [\"#1f78b4\"] * 34\n",
        "node_color[0] = \"red\"\n",
        "node_color[33] = \"green\"\n",
        "node_color\n",
        "nx.draw_circular(G, with_labels=True, node_color=node_color)\n",
        "plt.show()"
      ],
      "execution_count": 0,
      "outputs": []
    },
    {
      "cell_type": "markdown",
      "metadata": {
        "id": "axjeZl9h9nEL",
        "colab_type": "text"
      },
      "source": [
        "Draw with force-directed layout"
      ]
    },
    {
      "cell_type": "code",
      "metadata": {
        "id": "pZcbGfWT9pF6",
        "colab_type": "code",
        "colab": {}
      },
      "source": [
        "nx.draw_kamada_kawai(G, with_labels=True, node_color=node_color)\n",
        "plt.show()"
      ],
      "execution_count": 0,
      "outputs": []
    }
  ]
}