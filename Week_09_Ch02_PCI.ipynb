{
  "nbformat": 4,
  "nbformat_minor": 0,
  "metadata": {
    "colab": {
      "name": "Week-09-Ch02-PCI.ipynb",
      "provenance": [],
      "collapsed_sections": [],
      "authorship_tag": "ABX9TyP3Z/SrIJOIX1sBjggnicYT",
      "include_colab_link": true
    },
    "kernelspec": {
      "name": "python3",
      "display_name": "Python 3"
    }
  },
  "cells": [
    {
      "cell_type": "markdown",
      "metadata": {
        "id": "view-in-github",
        "colab_type": "text"
      },
      "source": [
        "<a href=\"https://colab.research.google.com/github/cs432-websci-spr20/assignments/blob/master/Week_09_Ch02_PCI.ipynb\" target=\"_parent\"><img src=\"https://colab.research.google.com/assets/colab-badge.svg\" alt=\"Open In Colab\"/></a>"
      ]
    },
    {
      "cell_type": "markdown",
      "metadata": {
        "id": "ZdZS8TuJh4AG",
        "colab_type": "text"
      },
      "source": [
        "Code based on Ch 2 \"Making Recommendations\" from *Programming Collective Intelligence*  \n",
        "\n",
        "(source at https://github.com/arthur-e/Programming-Collective-Intelligence/blob/master/chapter2/recommendations.py)"
      ]
    },
    {
      "cell_type": "markdown",
      "metadata": {
        "id": "cDrDbQy6iS9d",
        "colab_type": "text"
      },
      "source": [
        "First, set up the dictionary of movie critics and ratings."
      ]
    },
    {
      "cell_type": "code",
      "metadata": {
        "id": "qdJ66XRciDa4",
        "colab_type": "code",
        "colab": {}
      },
      "source": [
        "critics = {\n",
        "    'Lisa Rose': {\n",
        "        'Lady in the Water': 2.5,\n",
        "        'Snakes on a Plane': 3.5,\n",
        "        'Just My Luck': 3.0,\n",
        "        'Superman Returns': 3.5,\n",
        "        'You, Me and Dupree': 2.5,\n",
        "        'The Night Listener': 3.0,\n",
        "    },\n",
        "    'Gene Seymour': {\n",
        "        'Lady in the Water': 3.0,\n",
        "        'Snakes on a Plane': 3.5,\n",
        "        'Just My Luck': 1.5,\n",
        "        'Superman Returns': 5.0,\n",
        "        'The Night Listener': 3.0,\n",
        "        'You, Me and Dupree': 3.5,\n",
        "    },\n",
        "    'Michael Phillips': {\n",
        "        'Lady in the Water': 2.5,\n",
        "        'Snakes on a Plane': 3.0,\n",
        "        'Superman Returns': 3.5,\n",
        "        'The Night Listener': 4.0,\n",
        "    },\n",
        "    'Claudia Puig': {\n",
        "        'Snakes on a Plane': 3.5,\n",
        "        'Just My Luck': 3.0,\n",
        "        'The Night Listener': 4.5,\n",
        "        'Superman Returns': 4.0,\n",
        "        'You, Me and Dupree': 2.5,\n",
        "    },\n",
        "    'Mick LaSalle': {\n",
        "        'Lady in the Water': 3.0,\n",
        "        'Snakes on a Plane': 4.0,\n",
        "        'Just My Luck': 2.0,\n",
        "        'Superman Returns': 3.0,\n",
        "        'The Night Listener': 3.0,\n",
        "        'You, Me and Dupree': 2.0,\n",
        "    },\n",
        "    'Jack Matthews': {\n",
        "        'Lady in the Water': 3.0,\n",
        "        'Snakes on a Plane': 4.0,\n",
        "        'The Night Listener': 3.0,\n",
        "        'Superman Returns': 5.0,\n",
        "        'You, Me and Dupree': 3.5,\n",
        "    },\n",
        "    'Toby': {\n",
        "        'Snakes on a Plane': 4.5, \n",
        "        'You, Me and Dupree': 1.0,\n",
        "        'Superman Returns': 4.0\n",
        "    },\n",
        "}"
      ],
      "execution_count": 0,
      "outputs": []
    },
    {
      "cell_type": "markdown",
      "metadata": {
        "id": "3E3gzSRxilPV",
        "colab_type": "text"
      },
      "source": [
        "Examples from pg. 9"
      ]
    },
    {
      "cell_type": "code",
      "metadata": {
        "id": "XWh5NpujimeC",
        "colab_type": "code",
        "colab": {}
      },
      "source": [
        "critics['Lisa Rose']['Lady in the Water']"
      ],
      "execution_count": 0,
      "outputs": []
    },
    {
      "cell_type": "code",
      "metadata": {
        "id": "WH91V2EtisGJ",
        "colab_type": "code",
        "colab": {}
      },
      "source": [
        "critics['Toby']"
      ],
      "execution_count": 0,
      "outputs": []
    },
    {
      "cell_type": "markdown",
      "metadata": {
        "id": "SA_K5bihiyGR",
        "colab_type": "text"
      },
      "source": [
        "Next, add the modified Euclidean distance score (similarity [0,1])"
      ]
    },
    {
      "cell_type": "code",
      "metadata": {
        "id": "2StpZ_m4i1tn",
        "colab_type": "code",
        "colab": {}
      },
      "source": [
        "from math import sqrt\n",
        "\n",
        "def sim_distance(prefs, p1, p2):\n",
        "    '''\n",
        "    Returns a distance-based similarity score for person1 and person2.\n",
        "    '''\n",
        "\n",
        "    # Get the list of shared_items\n",
        "    si = {}\n",
        "    for item in prefs[p1]:\n",
        "        if item in prefs[p2]:\n",
        "            si[item] = 1\n",
        "\n",
        "    # If they have no ratings in common, return 0\n",
        "    if len(si) == 0:\n",
        "        return 0\n",
        "\n",
        "    # Add up the squares of all the differences\n",
        "    sum_of_squares = sum([pow(prefs[p1][item] - prefs[p2][item], 2)\n",
        "                          for item in si])\n",
        "\n",
        "    return 1 / (1 + sqrt(sum_of_squares))\n"
      ],
      "execution_count": 0,
      "outputs": []
    },
    {
      "cell_type": "markdown",
      "metadata": {
        "id": "qKDnWj9SjB2H",
        "colab_type": "text"
      },
      "source": [
        "Example from pg. 11 (*doesn't match book...*)"
      ]
    },
    {
      "cell_type": "code",
      "metadata": {
        "id": "DjQAuawNjDMH",
        "colab_type": "code",
        "colab": {}
      },
      "source": [
        "sim_distance(critics, 'Lisa Rose', 'Gene Seymour')"
      ],
      "execution_count": 0,
      "outputs": []
    },
    {
      "cell_type": "markdown",
      "metadata": {
        "id": "h4ajZeTykvTB",
        "colab_type": "text"
      },
      "source": [
        "Add Pearson correlation function"
      ]
    },
    {
      "cell_type": "code",
      "metadata": {
        "id": "E8r_f6rDky0J",
        "colab_type": "code",
        "colab": {}
      },
      "source": [
        "def sim_pearson(prefs, p1, p2):\n",
        "    '''\n",
        "    Returns the Pearson correlation coefficient for p1 and p2.\n",
        "    '''\n",
        "\n",
        "    # Get the list of mutually rated items\n",
        "    si = {}\n",
        "    for item in prefs[p1]:\n",
        "        if item in prefs[p2]:\n",
        "            si[item] = 1\n",
        "    \n",
        "    # If they are no ratings in common, return 0\n",
        "    if len(si) == 0:\n",
        "        return 0\n",
        "    \n",
        "    # Sum calculations\n",
        "    n = len(si)\n",
        "    \n",
        "    # Sums of all the preferences\n",
        "    sum1 = sum([prefs[p1][it] for it in si])\n",
        "    sum2 = sum([prefs[p2][it] for it in si])\n",
        "    \n",
        "    # Sums of the squares\n",
        "    sum1Sq = sum([pow(prefs[p1][it], 2) for it in si])\n",
        "    sum2Sq = sum([pow(prefs[p2][it], 2) for it in si])\n",
        "    \n",
        "    # Sum of the products\n",
        "    pSum = sum([prefs[p1][it] * prefs[p2][it] for it in si])\n",
        "    \n",
        "    # Calculate r (Pearson score)\n",
        "    num = pSum - sum1 * sum2 / n\n",
        "    den = sqrt((sum1Sq - pow(sum1, 2) / n) * (sum2Sq - pow(sum2, 2) / n))\n",
        "    if den == 0:\n",
        "        return 0\n",
        "    r = num / den\n",
        "    return r"
      ],
      "execution_count": 0,
      "outputs": []
    },
    {
      "cell_type": "markdown",
      "metadata": {
        "id": "3nKx5swmk466",
        "colab_type": "text"
      },
      "source": [
        "Example from pg. 14"
      ]
    },
    {
      "cell_type": "code",
      "metadata": {
        "id": "qfg_iOqEk7NY",
        "colab_type": "code",
        "colab": {}
      },
      "source": [
        "sim_pearson(critics, 'Lisa Rose', 'Gene Seymour')"
      ],
      "execution_count": 0,
      "outputs": []
    },
    {
      "cell_type": "markdown",
      "metadata": {
        "id": "KInMVDEPlOrn",
        "colab_type": "text"
      },
      "source": [
        "Find closest matches - which critics have tastes similar to mine?"
      ]
    },
    {
      "cell_type": "code",
      "metadata": {
        "id": "CnpBW8HUlUZW",
        "colab_type": "code",
        "colab": {}
      },
      "source": [
        "def topMatches(\n",
        "    prefs,\n",
        "    person,\n",
        "    n=5,\n",
        "    similarity=sim_pearson,\n",
        "):\n",
        "    '''\n",
        "    Returns the best matches for person from the prefs dictionary. \n",
        "    Number of results and similarity function are optional params.\n",
        "    '''\n",
        "\n",
        "    scores = [(similarity(prefs, person, other), other) for other in prefs\n",
        "              if other != person]\n",
        "    scores.sort()\n",
        "    scores.reverse()\n",
        "    return scores[0:n]"
      ],
      "execution_count": 0,
      "outputs": []
    },
    {
      "cell_type": "markdown",
      "metadata": {
        "id": "mbc6Mx4nlWOY",
        "colab_type": "text"
      },
      "source": [
        "Example from pg. 15"
      ]
    },
    {
      "cell_type": "code",
      "metadata": {
        "id": "RP3qfgK1lXUY",
        "colab_type": "code",
        "colab": {}
      },
      "source": [
        "topMatches(critics, \"Toby\", n=3)"
      ],
      "execution_count": 0,
      "outputs": []
    },
    {
      "cell_type": "markdown",
      "metadata": {
        "id": "ZIQjS-lECucZ",
        "colab_type": "text"
      },
      "source": [
        "Now we want to use this data to get a movie recommendation"
      ]
    },
    {
      "cell_type": "code",
      "metadata": {
        "id": "YapTb8wbCxSo",
        "colab_type": "code",
        "colab": {}
      },
      "source": [
        "def getRecommendations(prefs, person, similarity=sim_pearson):\n",
        "    '''\n",
        "    Gets recommendations for a person by using a weighted average\n",
        "    of every other user's rankings\n",
        "    '''\n",
        "\n",
        "    totals = {}\n",
        "    simSums = {}\n",
        "    for other in prefs:\n",
        "    # Don't compare me to myself\n",
        "        if other == person:\n",
        "            continue\n",
        "        sim = similarity(prefs, person, other)\n",
        "        # Ignore scores of zero or lower\n",
        "        if sim <= 0:\n",
        "            continue\n",
        "        for item in prefs[other]:\n",
        "            # Only score movies I haven't seen yet\n",
        "            if item not in prefs[person] or prefs[person][item] == 0:\n",
        "                # Similarity * Score\n",
        "                totals.setdefault(item, 0)\n",
        "                # The final score is calculated by multiplying each item by the\n",
        "                #   similarity and adding these products together\n",
        "                totals[item] += prefs[other][item] * sim\n",
        "                # Sum of similarities\n",
        "                simSums.setdefault(item, 0)\n",
        "                simSums[item] += sim\n",
        "    # Create the normalized list\n",
        "    rankings = [(total / simSums[item], item) for (item, total) in\n",
        "                totals.items()]\n",
        "    # Return the sorted list\n",
        "    rankings.sort()\n",
        "    rankings.reverse()\n",
        "    return rankings"
      ],
      "execution_count": 0,
      "outputs": []
    },
    {
      "cell_type": "markdown",
      "metadata": {
        "id": "efbWoxHqCzpG",
        "colab_type": "text"
      },
      "source": [
        "Examples from pg. 17"
      ]
    },
    {
      "cell_type": "code",
      "metadata": {
        "id": "EgieBGCkC2HO",
        "colab_type": "code",
        "colab": {}
      },
      "source": [
        "getRecommendations(critics, \"Toby\")"
      ],
      "execution_count": 0,
      "outputs": []
    },
    {
      "cell_type": "code",
      "metadata": {
        "id": "uHoVIhUsC9ER",
        "colab_type": "code",
        "colab": {}
      },
      "source": [
        "getRecommendations(critics, \"Toby\", similarity=sim_distance)"
      ],
      "execution_count": 0,
      "outputs": []
    },
    {
      "cell_type": "markdown",
      "metadata": {
        "id": "alc8LML2DPlI",
        "colab_type": "text"
      },
      "source": [
        "Now we want to know which movies are like each other.  So, if I like movie X, will I like movie Y?"
      ]
    },
    {
      "cell_type": "markdown",
      "metadata": {
        "id": "1LxLiQ8sDZby",
        "colab_type": "text"
      },
      "source": [
        "First, we need to swap the rows and columns from our dataset (looking for item similarity instead of critic similarity)."
      ]
    },
    {
      "cell_type": "code",
      "metadata": {
        "id": "KEqlo00jDVao",
        "colab_type": "code",
        "colab": {}
      },
      "source": [
        "def transformPrefs(prefs):\n",
        "    '''\n",
        "    Transform the recommendations into a mapping where persons are described\n",
        "    with interest scores for a given title e.g. {title: person} instead of\n",
        "    {person: title}.\n",
        "    '''\n",
        "\n",
        "    result = {}\n",
        "    for person in prefs:\n",
        "        for item in prefs[person]:\n",
        "            result.setdefault(item, {})\n",
        "            # Flip item and person\n",
        "            result[item][person] = prefs[person][item]\n",
        "    return result"
      ],
      "execution_count": 0,
      "outputs": []
    },
    {
      "cell_type": "markdown",
      "metadata": {
        "id": "110rgEccDka8",
        "colab_type": "text"
      },
      "source": [
        "Examples from pg. 18"
      ]
    },
    {
      "cell_type": "code",
      "metadata": {
        "id": "KqnbO-MTDoBZ",
        "colab_type": "code",
        "colab": {}
      },
      "source": [
        "movies = transformPrefs(critics)"
      ],
      "execution_count": 0,
      "outputs": []
    },
    {
      "cell_type": "markdown",
      "metadata": {
        "id": "t3rkDlHwDxok",
        "colab_type": "text"
      },
      "source": [
        "Now that we have a dataset referenced on movies, we can find movies that are most similar to each other."
      ]
    },
    {
      "cell_type": "code",
      "metadata": {
        "id": "vbSYnIhfDuO6",
        "colab_type": "code",
        "colab": {}
      },
      "source": [
        "topMatches(movies, \"Superman Returns\")"
      ],
      "execution_count": 0,
      "outputs": []
    }
  ]
}